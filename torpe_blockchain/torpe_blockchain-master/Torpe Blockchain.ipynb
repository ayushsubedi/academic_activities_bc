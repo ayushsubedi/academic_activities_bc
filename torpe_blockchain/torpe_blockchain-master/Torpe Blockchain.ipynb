{
 "cells": [
  {
   "cell_type": "markdown",
   "metadata": {},
   "source": [
    "# Torpe Blockchain (तोर्पे ब्लोक्कचैन)\n",
    "### A minimal blockchain data structure to understand the blockchain basics like hashing, nonce, states, genesis blocks etc."
   ]
  },
  {
   "cell_type": "markdown",
   "metadata": {},
   "source": [
    "![title](blockchain.jpg)"
   ]
  },
  {
   "cell_type": "markdown",
   "metadata": {},
   "source": [
    "### Hash Function"
   ]
  },
  {
   "cell_type": "markdown",
   "metadata": {},
   "source": [
    "A hash function is any function that can be used to map data of arbitrary size to data of a fixed size. The values returned by a hash function are called hash values, hash codes, digests, or simply hashes."
   ]
  },
  {
   "cell_type": "code",
   "execution_count": 1,
   "metadata": {},
   "outputs": [],
   "source": [
    "import hashlib\n",
    "def hash_sha256(raw):\n",
    "    raw = str(raw).encode('utf-8')\n",
    "    return hashlib.sha256(raw).hexdigest() "
   ]
  },
  {
   "cell_type": "code",
   "execution_count": 7,
   "metadata": {},
   "outputs": [
    {
     "data": {
      "text/plain": [
       "'0faac7a279d1b2a4c3a6ef2cf1a95b24224db99dc7336d70f8bbf260e8eee4d7'"
      ]
     },
     "execution_count": 7,
     "metadata": {},
     "output_type": "execute_result"
    }
   ],
   "source": [
    "hash_sha256('Academic Activities British')"
   ]
  },
  {
   "cell_type": "code",
   "execution_count": 8,
   "metadata": {},
   "outputs": [
    {
     "data": {
      "text/plain": [
       "'0faac7a279d1b2a4c3a6ef2cf1a95b24224db99dc7336d70f8bbf260e8eee4d7'"
      ]
     },
     "execution_count": 8,
     "metadata": {},
     "output_type": "execute_result"
    }
   ],
   "source": [
    "hash_sha256('Academic Activities British')"
   ]
  },
  {
   "cell_type": "code",
   "execution_count": 9,
   "metadata": {},
   "outputs": [
    {
     "data": {
      "text/plain": [
       "'ad44e8eedad674dc10fef66ffde6884259e4947a60ead421204edcc0ca9b277a'"
      ]
     },
     "execution_count": 9,
     "metadata": {},
     "output_type": "execute_result"
    }
   ],
   "source": [
    "hash_sha256('Academic Activities BritisH')"
   ]
  },
  {
   "cell_type": "markdown",
   "metadata": {},
   "source": [
    "Hashes for the same text are the same as seen above.  Even when one character of the string is changed, the hash generated as a result seems to be completely random.  "
   ]
  },
  {
   "cell_type": "markdown",
   "metadata": {},
   "source": [
    "SHA-256 collisions have not been found yet. "
   ]
  },
  {
   "cell_type": "markdown",
   "metadata": {},
   "source": [
    "### Nonce"
   ]
  },
  {
   "cell_type": "markdown",
   "metadata": {},
   "source": [
    "> Number that can only be used once\n",
    "\n",
    "An arbitrary number used in cryptography to ensure uniqueness and prevent the rerunning of transactions (known as replay attack). "
   ]
  },
  {
   "cell_type": "code",
   "execution_count": 10,
   "metadata": {},
   "outputs": [],
   "source": [
    "def hash_sha256_nonce(raw):\n",
    "    raw_bytes = str(raw).encode('utf-8')\n",
    "    hashed = hashlib.sha256(raw_bytes).hexdigest() \n",
    "    nonce = 0\n",
    "    while (hashed[:5] != '00000'):\n",
    "        nonce = nonce+1\n",
    "        raw.update({'nonce': nonce})\n",
    "        raw_bytes = str(raw).encode('utf-8')\n",
    "        hashed = hashlib.sha256(raw_bytes).hexdigest() \n",
    "    return raw, hashed"
   ]
  },
  {
   "cell_type": "code",
   "execution_count": 12,
   "metadata": {},
   "outputs": [
    {
     "name": "stdout",
     "output_type": "stream",
     "text": [
      "({'text': 'secret', 'nonce': 1313721}, '0000071458e7cfbd2703c5384a7f5986cb0127f7a50bb7a92b7b10415a1c4999')\n"
     ]
    }
   ],
   "source": [
    "print (hash_sha256_nonce({'text': 'secret', 'nonce': 0}))"
   ]
  },
  {
   "cell_type": "markdown",
   "metadata": {},
   "source": [
    "### Proof of work"
   ]
  },
  {
   "cell_type": "markdown",
   "metadata": {},
   "source": [
    "The proof of work for this case will be to generate hashes with five leading zeros (by incrementing the nonce). This is the \"mining\" part."
   ]
  },
  {
   "cell_type": "markdown",
   "metadata": {},
   "source": [
    "## Block"
   ]
  },
  {
   "cell_type": "markdown",
   "metadata": {},
   "source": [
    "Blocks hold batches of valid transactions that are hashed and encoded into a Merkle tree Each block includes the cryptographic hash of the prior block in the blockchain, linking the two. The linked blocks form a chain. This iterative process confirms the integrity of the previous block, all the way back to the original genesis block."
   ]
  },
  {
   "cell_type": "markdown",
   "metadata": {},
   "source": [
    "### Genesis Block"
   ]
  },
  {
   "cell_type": "markdown",
   "metadata": {},
   "source": [
    "A genesis block or block0 is the first block of a block chain. The genesis block is almost always hardcoded into the software of the applications that utilize its block chain. It is a special case in that it does not reference a previous block"
   ]
  },
  {
   "cell_type": "code",
   "execution_count": 13,
   "metadata": {},
   "outputs": [],
   "source": [
    "import datetime"
   ]
  },
  {
   "cell_type": "code",
   "execution_count": 53,
   "metadata": {},
   "outputs": [],
   "source": [
    "# Lets assume 5 person were given 100 coins each\n",
    "state = {\n",
    "    'Person_1': 100, \n",
    "    'Person_2': 100, \n",
    "    'Person_3': 100, \n",
    "    'Person_4': 100, \n",
    "    'Person_5': 100\n",
    "}"
   ]
  },
  {
   "cell_type": "code",
   "execution_count": 54,
   "metadata": {},
   "outputs": [],
   "source": [
    "block0_data = {\n",
    "    'timestamp': datetime.datetime.now(),\n",
    "    'index': 0,\n",
    "    'previous': None,\n",
    "    'transactions': [state], \n",
    "    'nonce': 0\n",
    "}\n",
    "\n",
    "raw, hashed = hash_sha256_nonce(block0_data)\n",
    "block0 = {\n",
    "    'hash': hashed,\n",
    "    'data': raw,\n",
    "}"
   ]
  },
  {
   "cell_type": "code",
   "execution_count": 55,
   "metadata": {},
   "outputs": [
    {
     "data": {
      "text/plain": [
       "{'hash': '0000073dec1d23825972d72f6aa3f0b76d3b38f0885f360fdcfb466fa5512d2b',\n",
       " 'data': {'timestamp': datetime.datetime(2019, 12, 19, 16, 25, 50, 667043),\n",
       "  'index': 0,\n",
       "  'previous': None,\n",
       "  'transactions': [{'Person_1': 100,\n",
       "    'Person_2': 100,\n",
       "    'Person_3': 100,\n",
       "    'Person_4': 100,\n",
       "    'Person_5': 100}],\n",
       "  'nonce': 428344}}"
      ]
     },
     "execution_count": 55,
     "metadata": {},
     "output_type": "execute_result"
    }
   ],
   "source": [
    "block0"
   ]
  },
  {
   "cell_type": "markdown",
   "metadata": {},
   "source": [
    "This is the genesis block or block 0 here."
   ]
  },
  {
   "cell_type": "markdown",
   "metadata": {},
   "source": [
    "### Transactions\n",
    "Lets create some random transactions. The transactions for the demo purpose follow +x, -x semantic. See the examples below."
   ]
  },
  {
   "cell_type": "code",
   "execution_count": 56,
   "metadata": {},
   "outputs": [],
   "source": [
    "import random\n",
    "def random_transaction(state):\n",
    "    temp_list = list(state.keys())\n",
    "    random.shuffle(temp_list)\n",
    "    # randomly select two persons\n",
    "    first_person = temp_list.pop()\n",
    "    second_person = temp_list.pop()\n",
    "    receive = random.randint(1, 10)\n",
    "    give = -receive\n",
    "    return {\n",
    "        first_person:receive, \n",
    "        second_person:give\n",
    "    }"
   ]
  },
  {
   "cell_type": "code",
   "execution_count": 57,
   "metadata": {},
   "outputs": [],
   "source": [
    "test_transactions = [random_transaction(state) for x in range(5)]"
   ]
  },
  {
   "cell_type": "code",
   "execution_count": 58,
   "metadata": {},
   "outputs": [
    {
     "data": {
      "text/plain": [
       "[{'Person_5': 4, 'Person_3': -4},\n",
       " {'Person_1': 7, 'Person_3': -7},\n",
       " {'Person_3': 5, 'Person_1': -5},\n",
       " {'Person_1': 8, 'Person_5': -8},\n",
       " {'Person_5': 10, 'Person_4': -10}]"
      ]
     },
     "execution_count": 58,
     "metadata": {},
     "output_type": "execute_result"
    }
   ],
   "source": [
    "test_transactions"
   ]
  },
  {
   "cell_type": "markdown",
   "metadata": {},
   "source": [
    "### Updating State"
   ]
  },
  {
   "cell_type": "code",
   "execution_count": 59,
   "metadata": {},
   "outputs": [],
   "source": [
    "def update_state(transaction, state):\n",
    "    state = state.copy()\n",
    "    for key in transaction:\n",
    "        state[key] = state.get(key, 0) + transaction[key]\n",
    "    return state"
   ]
  },
  {
   "cell_type": "code",
   "execution_count": 60,
   "metadata": {},
   "outputs": [],
   "source": [
    "for transaction in test_transactions:\n",
    "    state = update_state(transaction, state)"
   ]
  },
  {
   "cell_type": "code",
   "execution_count": 61,
   "metadata": {},
   "outputs": [
    {
     "data": {
      "text/plain": [
       "{'Person_1': 110,\n",
       " 'Person_2': 100,\n",
       " 'Person_3': 94,\n",
       " 'Person_4': 90,\n",
       " 'Person_5': 106}"
      ]
     },
     "execution_count": 61,
     "metadata": {},
     "output_type": "execute_result"
    }
   ],
   "source": [
    "state"
   ]
  },
  {
   "cell_type": "markdown",
   "metadata": {},
   "source": [
    "### Valid Transactions"
   ]
  },
  {
   "cell_type": "code",
   "execution_count": 66,
   "metadata": {},
   "outputs": [
    {
     "data": {
      "text/plain": [
       "106"
      ]
     },
     "execution_count": 66,
     "metadata": {},
     "output_type": "execute_result"
    }
   ],
   "source": [
    "transaction.keys()\n",
    "state.get('Person_5') +transaction.keys()"
   ]
  },
  {
   "cell_type": "code",
   "execution_count": 71,
   "metadata": {},
   "outputs": [],
   "source": [
    "def check_transaction_validity(transaction, state):\n",
    "    # check neg vs pos\n",
    "    if sum(transaction.values()) is not 0:\n",
    "        return False\n",
    "    # check if amount in wallet to give\n",
    "    for key in transaction.keys():\n",
    "        if state.get(key, 0) + transaction[key] < 0:\n",
    "            return False\n",
    "    return True"
   ]
  },
  {
   "cell_type": "code",
   "execution_count": 72,
   "metadata": {},
   "outputs": [
    {
     "name": "stdout",
     "output_type": "stream",
     "text": [
      "True\n",
      "True\n",
      "True\n",
      "True\n",
      "True\n"
     ]
    }
   ],
   "source": [
    "for transaction in test_transactions:\n",
    "    print (check_transaction_validity(transaction, state))"
   ]
  },
  {
   "cell_type": "code",
   "execution_count": 73,
   "metadata": {},
   "outputs": [
    {
     "name": "stdout",
     "output_type": "stream",
     "text": [
      "False\n"
     ]
    }
   ],
   "source": [
    "# No balance\n",
    "print (check_transaction_validity({'A': 5, 'B': -5}, {'A': 0, 'B': 0}))"
   ]
  },
  {
   "cell_type": "code",
   "execution_count": 74,
   "metadata": {},
   "outputs": [
    {
     "name": "stdout",
     "output_type": "stream",
     "text": [
      "False\n"
     ]
    }
   ],
   "source": [
    "# Bad transaction\n",
    "print (check_transaction_validity({'A': 5, 'B': 5}, {'A': 50, 'B': 50}))"
   ]
  },
  {
   "cell_type": "markdown",
   "metadata": {},
   "source": [
    "### Initial State"
   ]
  },
  {
   "cell_type": "code",
   "execution_count": 75,
   "metadata": {},
   "outputs": [],
   "source": [
    "# Let us reset\n",
    "# Lets assume 5 person were given 100 coins each\n",
    "state = {\n",
    "    'Person_1': 100, \n",
    "    'Person_2': 100, \n",
    "    'Person_3': 100, \n",
    "    'Person_4': 100, \n",
    "    'Person_5': 100\n",
    "}\n",
    "\n",
    "blockchain = []"
   ]
  },
  {
   "cell_type": "code",
   "execution_count": 76,
   "metadata": {},
   "outputs": [],
   "source": [
    "# Adding the genesis block\n",
    "blockchain.append(block0)"
   ]
  },
  {
   "cell_type": "code",
   "execution_count": 77,
   "metadata": {},
   "outputs": [
    {
     "data": {
      "text/plain": [
       "[{'hash': '0000073dec1d23825972d72f6aa3f0b76d3b38f0885f360fdcfb466fa5512d2b',\n",
       "  'data': {'timestamp': datetime.datetime(2019, 12, 19, 16, 25, 50, 667043),\n",
       "   'index': 0,\n",
       "   'previous': None,\n",
       "   'transactions': [{'Person_1': 100,\n",
       "     'Person_2': 100,\n",
       "     'Person_3': 100,\n",
       "     'Person_4': 100,\n",
       "     'Person_5': 100}],\n",
       "   'nonce': 428344}}]"
      ]
     },
     "execution_count": 77,
     "metadata": {},
     "output_type": "execute_result"
    }
   ],
   "source": [
    "blockchain"
   ]
  },
  {
   "cell_type": "markdown",
   "metadata": {},
   "source": [
    "### Non-genesis block / New block"
   ]
  },
  {
   "cell_type": "code",
   "execution_count": 78,
   "metadata": {},
   "outputs": [],
   "source": [
    "def new_block(transactions, blockchain):\n",
    "    previous_block = blockchain[-1]\n",
    "    data = {\n",
    "        'timestamp': datetime.datetime.now(),\n",
    "        'index': previous_block['data']['index'] + 1,\n",
    "        'previous': previous_block['hash'],\n",
    "        'transactions': transactions,\n",
    "        'nonce': 0\n",
    "        }\n",
    "    \n",
    "    raw, hashed = hash_sha256_nonce(data)\n",
    "    block = {'hash': hashed, 'data': raw}\n",
    "    return block"
   ]
  },
  {
   "cell_type": "code",
   "execution_count": 79,
   "metadata": {},
   "outputs": [],
   "source": [
    "sample_transactions = [random_transaction(state) for x in range(50)]"
   ]
  },
  {
   "cell_type": "code",
   "execution_count": 80,
   "metadata": {
    "scrolled": true
   },
   "outputs": [
    {
     "data": {
      "text/plain": [
       "[{'Person_3': 10, 'Person_1': -10},\n",
       " {'Person_5': 10, 'Person_1': -10},\n",
       " {'Person_4': 8, 'Person_1': -8},\n",
       " {'Person_3': 6, 'Person_4': -6},\n",
       " {'Person_3': 2, 'Person_1': -2},\n",
       " {'Person_3': 7, 'Person_5': -7},\n",
       " {'Person_3': 2, 'Person_5': -2},\n",
       " {'Person_3': 10, 'Person_1': -10},\n",
       " {'Person_4': 3, 'Person_2': -3},\n",
       " {'Person_4': 4, 'Person_1': -4},\n",
       " {'Person_4': 5, 'Person_5': -5},\n",
       " {'Person_1': 9, 'Person_3': -9},\n",
       " {'Person_3': 3, 'Person_4': -3},\n",
       " {'Person_5': 6, 'Person_1': -6},\n",
       " {'Person_1': 2, 'Person_2': -2},\n",
       " {'Person_5': 1, 'Person_2': -1},\n",
       " {'Person_3': 9, 'Person_1': -9},\n",
       " {'Person_2': 3, 'Person_1': -3},\n",
       " {'Person_5': 9, 'Person_3': -9},\n",
       " {'Person_1': 10, 'Person_2': -10},\n",
       " {'Person_5': 2, 'Person_4': -2},\n",
       " {'Person_3': 8, 'Person_2': -8},\n",
       " {'Person_1': 5, 'Person_2': -5},\n",
       " {'Person_4': 10, 'Person_5': -10},\n",
       " {'Person_1': 9, 'Person_2': -9},\n",
       " {'Person_1': 8, 'Person_3': -8},\n",
       " {'Person_1': 8, 'Person_3': -8},\n",
       " {'Person_2': 8, 'Person_4': -8},\n",
       " {'Person_2': 7, 'Person_3': -7},\n",
       " {'Person_4': 7, 'Person_5': -7},\n",
       " {'Person_1': 6, 'Person_3': -6},\n",
       " {'Person_5': 6, 'Person_2': -6},\n",
       " {'Person_4': 1, 'Person_3': -1},\n",
       " {'Person_5': 3, 'Person_3': -3},\n",
       " {'Person_2': 5, 'Person_1': -5},\n",
       " {'Person_4': 2, 'Person_1': -2},\n",
       " {'Person_2': 6, 'Person_4': -6},\n",
       " {'Person_2': 3, 'Person_3': -3},\n",
       " {'Person_5': 5, 'Person_4': -5},\n",
       " {'Person_1': 5, 'Person_3': -5},\n",
       " {'Person_1': 3, 'Person_3': -3},\n",
       " {'Person_2': 8, 'Person_1': -8},\n",
       " {'Person_4': 5, 'Person_2': -5},\n",
       " {'Person_1': 10, 'Person_4': -10},\n",
       " {'Person_5': 3, 'Person_2': -3},\n",
       " {'Person_5': 7, 'Person_2': -7},\n",
       " {'Person_5': 1, 'Person_3': -1},\n",
       " {'Person_4': 1, 'Person_5': -1},\n",
       " {'Person_3': 8, 'Person_4': -8},\n",
       " {'Person_1': 5, 'Person_4': -5}]"
      ]
     },
     "execution_count": 80,
     "metadata": {},
     "output_type": "execute_result"
    }
   ],
   "source": [
    "sample_transactions"
   ]
  },
  {
   "cell_type": "markdown",
   "metadata": {},
   "source": [
    "### Transactions per block"
   ]
  },
  {
   "cell_type": "markdown",
   "metadata": {},
   "source": [
    "Bitcoin blocks used to contain fewer than 200 transactions and the largest number of transactions in a block was 1,976 at in May 2013. In meanwhile (November 2017) the average number of transaction per block is well above 1500 with peaks above 2200."
   ]
  },
  {
   "cell_type": "code",
   "execution_count": 81,
   "metadata": {},
   "outputs": [],
   "source": [
    "# Assume block size is 5\n",
    "transactions_per_block = 5\n",
    "transaction_block = []\n",
    "\n",
    "for transaction in sample_transactions:\n",
    "    if check_transaction_validity(transaction, state):\n",
    "        state = update_state(transaction, state)\n",
    "        transaction_block.append(transaction)\n",
    "        \n",
    "        if len(transaction_block) >= transactions_per_block:\n",
    "            blockchain.append(new_block(transaction_block, blockchain))\n",
    "            transaction_block = []"
   ]
  },
  {
   "cell_type": "code",
   "execution_count": 82,
   "metadata": {
    "scrolled": false
   },
   "outputs": [
    {
     "name": "stdout",
     "output_type": "stream",
     "text": [
      "{'data': {'index': 0,\n",
      "          'nonce': 428344,\n",
      "          'previous': None,\n",
      "          'timestamp': datetime.datetime(2019, 12, 19, 16, 25, 50, 667043),\n",
      "          'transactions': [{'Person_1': 100,\n",
      "                            'Person_2': 100,\n",
      "                            'Person_3': 100,\n",
      "                            'Person_4': 100,\n",
      "                            'Person_5': 100}]},\n",
      " 'hash': '0000073dec1d23825972d72f6aa3f0b76d3b38f0885f360fdcfb466fa5512d2b'}\n",
      "\n",
      "************************************************************************************\n",
      "\n",
      "{'data': {'index': 1,\n",
      "          'nonce': 791599,\n",
      "          'previous': '0000073dec1d23825972d72f6aa3f0b76d3b38f0885f360fdcfb466fa5512d2b',\n",
      "          'timestamp': datetime.datetime(2019, 12, 19, 16, 48, 45, 117776),\n",
      "          'transactions': [{'Person_1': -10, 'Person_3': 10},\n",
      "                           {'Person_1': -10, 'Person_5': 10},\n",
      "                           {'Person_1': -8, 'Person_4': 8},\n",
      "                           {'Person_3': 6, 'Person_4': -6},\n",
      "                           {'Person_1': -2, 'Person_3': 2}]},\n",
      " 'hash': '00000e036753f73d037e11457bd712f5673c9ea5638c1a79d8f8839dded8e0e8'}\n",
      "\n",
      "************************************************************************************\n",
      "\n",
      "{'data': {'index': 2,\n",
      "          'nonce': 911271,\n",
      "          'previous': '00000e036753f73d037e11457bd712f5673c9ea5638c1a79d8f8839dded8e0e8',\n",
      "          'timestamp': datetime.datetime(2019, 12, 19, 16, 48, 52, 93126),\n",
      "          'transactions': [{'Person_3': 7, 'Person_5': -7},\n",
      "                           {'Person_3': 2, 'Person_5': -2},\n",
      "                           {'Person_1': -10, 'Person_3': 10},\n",
      "                           {'Person_2': -3, 'Person_4': 3},\n",
      "                           {'Person_1': -4, 'Person_4': 4}]},\n",
      " 'hash': '000002dff0a83cfbc69d0a434b13f76151564fcab283efde63393ddb39e18a10'}\n",
      "\n",
      "************************************************************************************\n",
      "\n",
      "{'data': {'index': 3,\n",
      "          'nonce': 243712,\n",
      "          'previous': '000002dff0a83cfbc69d0a434b13f76151564fcab283efde63393ddb39e18a10',\n",
      "          'timestamp': datetime.datetime(2019, 12, 19, 16, 48, 59, 647953),\n",
      "          'transactions': [{'Person_4': 5, 'Person_5': -5},\n",
      "                           {'Person_1': 9, 'Person_3': -9},\n",
      "                           {'Person_3': 3, 'Person_4': -3},\n",
      "                           {'Person_1': -6, 'Person_5': 6},\n",
      "                           {'Person_1': 2, 'Person_2': -2}]},\n",
      " 'hash': '0000060f0ed8d8a5406be12b312ffe038c8d7e37d068526f33a48dbfabbd151d'}\n",
      "\n",
      "************************************************************************************\n",
      "\n",
      "{'data': {'index': 4,\n",
      "          'nonce': 1416253,\n",
      "          'previous': '0000060f0ed8d8a5406be12b312ffe038c8d7e37d068526f33a48dbfabbd151d',\n",
      "          'timestamp': datetime.datetime(2019, 12, 19, 16, 49, 1, 693460),\n",
      "          'transactions': [{'Person_2': -1, 'Person_5': 1},\n",
      "                           {'Person_1': -9, 'Person_3': 9},\n",
      "                           {'Person_1': -3, 'Person_2': 3},\n",
      "                           {'Person_3': -9, 'Person_5': 9},\n",
      "                           {'Person_1': 10, 'Person_2': -10}]},\n",
      " 'hash': '00000bb57cb5210630ae5424a7a5c3ef32edd664ef3797e4c1156144bd579913'}\n",
      "\n",
      "************************************************************************************\n",
      "\n",
      "{'data': {'index': 5,\n",
      "          'nonce': 964237,\n",
      "          'previous': '00000bb57cb5210630ae5424a7a5c3ef32edd664ef3797e4c1156144bd579913',\n",
      "          'timestamp': datetime.datetime(2019, 12, 19, 16, 49, 14, 280200),\n",
      "          'transactions': [{'Person_4': -2, 'Person_5': 2},\n",
      "                           {'Person_2': -8, 'Person_3': 8},\n",
      "                           {'Person_1': 5, 'Person_2': -5},\n",
      "                           {'Person_4': 10, 'Person_5': -10},\n",
      "                           {'Person_1': 9, 'Person_2': -9}]},\n",
      " 'hash': '00000b5e444147cdb9ddde593a1fe3cc926073550cb646d773e3f3a0cf9a7632'}\n",
      "\n",
      "************************************************************************************\n",
      "\n",
      "{'data': {'index': 6,\n",
      "          'nonce': 322637,\n",
      "          'previous': '00000b5e444147cdb9ddde593a1fe3cc926073550cb646d773e3f3a0cf9a7632',\n",
      "          'timestamp': datetime.datetime(2019, 12, 19, 16, 49, 22, 923099),\n",
      "          'transactions': [{'Person_1': 8, 'Person_3': -8},\n",
      "                           {'Person_1': 8, 'Person_3': -8},\n",
      "                           {'Person_2': 8, 'Person_4': -8},\n",
      "                           {'Person_2': 7, 'Person_3': -7},\n",
      "                           {'Person_4': 7, 'Person_5': -7}]},\n",
      " 'hash': '00000f6eea5faa644daa1859109b19b5c014f9e21c49b98ddb0b36877ace31c2'}\n",
      "\n",
      "************************************************************************************\n",
      "\n",
      "{'data': {'index': 7,\n",
      "          'nonce': 567219,\n",
      "          'previous': '00000f6eea5faa644daa1859109b19b5c014f9e21c49b98ddb0b36877ace31c2',\n",
      "          'timestamp': datetime.datetime(2019, 12, 19, 16, 49, 25, 881131),\n",
      "          'transactions': [{'Person_1': 6, 'Person_3': -6},\n",
      "                           {'Person_2': -6, 'Person_5': 6},\n",
      "                           {'Person_3': -1, 'Person_4': 1},\n",
      "                           {'Person_3': -3, 'Person_5': 3},\n",
      "                           {'Person_1': -5, 'Person_2': 5}]},\n",
      " 'hash': '000009becdcaa53f58d5712861b0a7f62b428eabc2f5c8613439d0fe7f882c2f'}\n",
      "\n",
      "************************************************************************************\n",
      "\n",
      "{'data': {'index': 8,\n",
      "          'nonce': 124360,\n",
      "          'previous': '000009becdcaa53f58d5712861b0a7f62b428eabc2f5c8613439d0fe7f882c2f',\n",
      "          'timestamp': datetime.datetime(2019, 12, 19, 16, 49, 30, 528716),\n",
      "          'transactions': [{'Person_1': -2, 'Person_4': 2},\n",
      "                           {'Person_2': 6, 'Person_4': -6},\n",
      "                           {'Person_2': 3, 'Person_3': -3},\n",
      "                           {'Person_4': -5, 'Person_5': 5},\n",
      "                           {'Person_1': 5, 'Person_3': -5}]},\n",
      " 'hash': '0000044506dc0022b2bcd5e9b420d61661e1e96734b948f898c63a358fe26adc'}\n",
      "\n",
      "************************************************************************************\n",
      "\n",
      "{'data': {'index': 9,\n",
      "          'nonce': 666802,\n",
      "          'previous': '0000044506dc0022b2bcd5e9b420d61661e1e96734b948f898c63a358fe26adc',\n",
      "          'timestamp': datetime.datetime(2019, 12, 19, 16, 49, 31, 544986),\n",
      "          'transactions': [{'Person_1': 3, 'Person_3': -3},\n",
      "                           {'Person_1': -8, 'Person_2': 8},\n",
      "                           {'Person_2': -5, 'Person_4': 5},\n",
      "                           {'Person_1': 10, 'Person_4': -10},\n",
      "                           {'Person_2': -3, 'Person_5': 3}]},\n",
      " 'hash': '000006ad99e3cbf47627da16124d260fd2a2117af3879a038df48a79f3271bc8'}\n",
      "\n",
      "************************************************************************************\n",
      "\n",
      "{'data': {'index': 10,\n",
      "          'nonce': 1641783,\n",
      "          'previous': '000006ad99e3cbf47627da16124d260fd2a2117af3879a038df48a79f3271bc8',\n",
      "          'timestamp': datetime.datetime(2019, 12, 19, 16, 49, 38, 657944),\n",
      "          'transactions': [{'Person_2': -7, 'Person_5': 7},\n",
      "                           {'Person_3': -1, 'Person_5': 1},\n",
      "                           {'Person_4': 1, 'Person_5': -1},\n",
      "                           {'Person_3': 8, 'Person_4': -8},\n",
      "                           {'Person_1': 5, 'Person_4': -5}]},\n",
      " 'hash': '00000e944454ca3e38affe7890966ad09faae7606e986a0dd3de0312bd653b4d'}\n",
      "\n",
      "************************************************************************************\n",
      "\n"
     ]
    }
   ],
   "source": [
    "import pprint\n",
    "pp = pprint.PrettyPrinter()\n",
    "for block in blockchain:\n",
    "    pp.pprint(block)\n",
    "    print('\\n************************************************************************************\\n')"
   ]
  },
  {
   "cell_type": "markdown",
   "metadata": {},
   "source": [
    "### The current state\n",
    "#### Syncing for the first time"
   ]
  },
  {
   "cell_type": "code",
   "execution_count": 83,
   "metadata": {},
   "outputs": [],
   "source": [
    "def validate_block(block, parent, state):    \n",
    "    error_msg = 'Error in %d' % block['data']['index']\n",
    "\n",
    "    # check block hash\n",
    "    assert block['hash'] == hash_sha256(block['data']), error_msg\n",
    "\n",
    "    # check block indices\n",
    "    assert block['data']['index'] == parent['data']['index'] + 1, error_msg\n",
    "\n",
    "    # check previous hash\n",
    "    assert block['data']['previous'] == parent['hash'], error_msg\n",
    "    \n",
    "    # validate all transactions\n",
    "    for transaction in block['data']['transactions']:\n",
    "        assert check_transaction_validity(transaction, state), error_msg\n",
    "        state = update_state(transaction, state)\n",
    "        \n",
    "    return state"
   ]
  },
  {
   "cell_type": "code",
   "execution_count": 84,
   "metadata": {},
   "outputs": [
    {
     "data": {
      "text/plain": [
       "{'Person_1': 103,\n",
       " 'Person_2': 81,\n",
       " 'Person_3': 102,\n",
       " 'Person_4': 93,\n",
       " 'Person_5': 121}"
      ]
     },
     "execution_count": 84,
     "metadata": {},
     "output_type": "execute_result"
    }
   ],
   "source": [
    "def check_chain(blockchain):\n",
    "    state = {}\n",
    "\n",
    "    for transaction in blockchain[0]['data']['transactions']:\n",
    "        state = update_state(transaction, state)\n",
    "\n",
    "    parent = blockchain[0]\n",
    "    \n",
    "    for block in blockchain[1:]:\n",
    "        state = validate_block(block, parent, state)\n",
    "        parent = block\n",
    "\n",
    "    return state\n",
    "\n",
    "check_chain(blockchain)"
   ]
  },
  {
   "cell_type": "code",
   "execution_count": null,
   "metadata": {
    "collapsed": true
   },
   "outputs": [],
   "source": []
  }
 ],
 "metadata": {
  "kernelspec": {
   "display_name": "Python 3",
   "language": "python",
   "name": "python3"
  },
  "language_info": {
   "codemirror_mode": {
    "name": "ipython",
    "version": 3
   },
   "file_extension": ".py",
   "mimetype": "text/x-python",
   "name": "python",
   "nbconvert_exporter": "python",
   "pygments_lexer": "ipython3",
   "version": "3.7.3"
  }
 },
 "nbformat": 4,
 "nbformat_minor": 2
}
