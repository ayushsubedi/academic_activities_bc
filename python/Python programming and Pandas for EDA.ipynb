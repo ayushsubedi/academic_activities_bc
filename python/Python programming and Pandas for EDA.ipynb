{
 "cells": [
  {
   "cell_type": "code",
   "execution_count": null,
   "metadata": {},
   "outputs": [],
   "source": [
    "## Break down the problem\n",
    "1. do a random number generator\n",
    "    maybe you need to import something \n",
    "2. do a loop \n",
    "    any loop of your choice\n",
    "3. do a print \n",
    "    maybe just printing the products first is easier \n",
    "    and adding more components to it slowly would make sense\n",
    "4. do a pretty print\n",
    "\n",
    "5. break the rules"
   ]
  },
  {
   "cell_type": "code",
   "execution_count": 1,
   "metadata": {},
   "outputs": [
    {
     "name": "stdout",
     "output_type": "stream",
     "text": [
      "1 * 1 = 1\n",
      "1 * 2 = 2\n",
      "1 * 3 = 3\n",
      "1 * 4 = 4\n",
      "1 * 5 = 5\n",
      "1 * 6 = 6\n",
      "1 * 7 = 7\n",
      "1 * 8 = 8\n",
      "1 * 9 = 9\n",
      "1 * 10 = 10\n"
     ]
    }
   ],
   "source": [
    "# for i in range (1, 11):\n",
    "#     print (i)\n",
    "import random\n",
    "i = 1\n",
    "mul_table_of = random.randint(1,10)\n",
    "while (i<=10):\n",
    "    print(\"{} * {} = {}\".format(mul_table_of , i , i*mul_table_of))\n",
    "    i += 1"
   ]
  },
  {
   "cell_type": "code",
   "execution_count": 2,
   "metadata": {},
   "outputs": [
    {
     "name": "stdout",
     "output_type": "stream",
     "text": [
      "6 * 1 = 6\n",
      "6 * 2 = 12\n",
      "6 * 3 = 18\n",
      "6 * 4 = 24\n",
      "6 * 5 = 30\n",
      "6 * 6 = 36\n",
      "6 * 7 = 42\n",
      "6 * 8 = 48\n",
      "6 * 9 = 54\n",
      "6 * 10 = 60\n"
     ]
    }
   ],
   "source": [
    "import random\n",
    "\n",
    "mul_table_of = random.randint(1,10)\n",
    "for  i in range (1,11):\n",
    "    print(\"{} * {} = {}\".format(mul_table_of , i , i*mul_table_of))"
   ]
  },
  {
   "cell_type": "code",
   "execution_count": 3,
   "metadata": {},
   "outputs": [
    {
     "data": {
      "text/plain": [
       "1"
      ]
     },
     "execution_count": 3,
     "metadata": {},
     "output_type": "execute_result"
    }
   ],
   "source": [
    "# random coin flip\n",
    "random.randint(0, 1)"
   ]
  },
  {
   "cell_type": "code",
   "execution_count": 19,
   "metadata": {},
   "outputs": [
    {
     "name": "stdout",
     "output_type": "stream",
     "text": [
      "0.5\n"
     ]
    }
   ],
   "source": [
    "iteration = 2\n",
    "head_count = 0\n",
    "my_list = []\n",
    "\n",
    "for i in range(iteration):\n",
    "    my_list.append(random.randint(0, 1))\n",
    "print (sum(my_list)/iteration)"
   ]
  },
  {
   "cell_type": "code",
   "execution_count": 29,
   "metadata": {},
   "outputs": [
    {
     "name": "stdout",
     "output_type": "stream",
     "text": [
      "1 -->  \n",
      "2 -->  \n",
      "3 --> Fizz \n",
      "4 -->  \n",
      "5 --> Buzz \n",
      "6 --> Fizz \n",
      "7 -->  \n",
      "8 -->  \n",
      "9 --> Fizz \n",
      "10 --> Buzz \n",
      "11 -->  \n",
      "12 --> Fizz \n",
      "13 -->  \n",
      "14 -->  \n",
      "15 --> FizzBuzz \n",
      "16 -->  \n",
      "17 -->  \n",
      "18 --> Fizz \n",
      "19 -->  \n",
      "20 --> Buzz \n",
      "21 --> Fizz \n",
      "22 -->  \n",
      "23 -->  \n",
      "24 --> Fizz \n",
      "25 --> Buzz \n",
      "26 -->  \n",
      "27 --> Fizz \n",
      "28 -->  \n",
      "29 -->  \n",
      "30 --> FizzBuzz \n"
     ]
    }
   ],
   "source": [
    "for i in range (1 , 31):\n",
    "    result = \"\"\n",
    "    if (i % 3 == 0):\n",
    "        result = result + \"Fizz\"\n",
    "    if (i % 5 == 0):\n",
    "        result = result + \"Buzz\"\n",
    "    print (\"{} --> {} \".format(i, result))"
   ]
  },
  {
   "cell_type": "code",
   "execution_count": null,
   "metadata": {},
   "outputs": [],
   "source": []
  },
  {
   "cell_type": "markdown",
   "metadata": {},
   "source": [
    "## Topics Covered:\n",
    "1. Introduction to Python Programming\n",
    "2. Jupyter Notebooks\n",
    "3. Conditionals, Loops, Function\n",
    "4. Data Structures (List, Map, Set, Dictionaries) and Abstract Data Types\n",
    "5. Introduction to Pandas\n",
    "6. Importing, Viewing, Grouping, Sorting Datasets\n",
    "7. Data Visualization\n",
    "8. Exercise on Exploratory Data Analysis"
   ]
  },
  {
   "cell_type": "markdown",
   "metadata": {
    "colab_type": "text",
    "id": "hnIH9OxxFY_C"
   },
   "source": [
    "## Introduction to Python Programming"
   ]
  },
  {
   "cell_type": "markdown",
   "metadata": {},
   "source": [
    "Python is an interpreted, high-level, general-purpose programming language. Created by Guido van Rossum and first released in 1991, Python's design philosophy emphasizes code readability with its notable use of significant whitespace."
   ]
  },
  {
   "cell_type": "markdown",
   "metadata": {},
   "source": [
    "- Freedom from ;\n",
    "- Dynamic type (int, float, double, string etc. are defined in runtime)\n",
    "- White space/Indentation is important\n",
    "- Readable (very easy to understand what the code is trying to accomplish)\n",
    "- Easy (compared to other languages)\n",
    "- Camelcase vs snakecase (name your variables using underscore. my_list is good, myList is not). This won't cause any problems though. \n",
    "- Flask/Django, AI, Pandas etc (Python is for everything, web development, AI, data analysis etc)"
   ]
  },
  {
   "cell_type": "markdown",
   "metadata": {
    "colab_type": "text",
    "id": "3MDislHpFY_E"
   },
   "source": [
    "#### Math operators"
   ]
  },
  {
   "cell_type": "code",
   "execution_count": 63,
   "metadata": {
    "colab": {},
    "colab_type": "code",
    "id": "WxNjILcjFY_F",
    "scrolled": true
   },
   "outputs": [
    {
     "data": {
      "text/plain": [
       "4"
      ]
     },
     "execution_count": 63,
     "metadata": {},
     "output_type": "execute_result"
    }
   ],
   "source": [
    "# add two integers\n",
    "2 + 2"
   ]
  },
  {
   "cell_type": "code",
   "execution_count": 64,
   "metadata": {
    "colab": {},
    "colab_type": "code",
    "id": "4g7Np5MBFY_J"
   },
   "outputs": [
    {
     "data": {
      "text/plain": [
       "4"
      ]
     },
     "execution_count": 64,
     "metadata": {},
     "output_type": "execute_result"
    }
   ],
   "source": [
    "# multiply two integers\n",
    "2 * 2"
   ]
  },
  {
   "cell_type": "code",
   "execution_count": 65,
   "metadata": {
    "colab": {},
    "colab_type": "code",
    "id": "N_OtUxK0FY_M"
   },
   "outputs": [
    {
     "data": {
      "text/plain": [
       "16"
      ]
     },
     "execution_count": 65,
     "metadata": {},
     "output_type": "execute_result"
    }
   ],
   "source": [
    "# spaces don't matter here, but keep them consistent (PEP8 good practice)\n",
    "2*3 + 10"
   ]
  },
  {
   "cell_type": "code",
   "execution_count": 66,
   "metadata": {
    "colab": {},
    "colab_type": "code",
    "id": "oB5lJkCVFY_O"
   },
   "outputs": [
    {
     "data": {
      "text/plain": [
       "2.0"
      ]
     },
     "execution_count": 66,
     "metadata": {},
     "output_type": "execute_result"
    }
   ],
   "source": [
    "# divide two integers\n",
    "6 / 3"
   ]
  },
  {
   "cell_type": "code",
   "execution_count": 67,
   "metadata": {
    "colab": {},
    "colab_type": "code",
    "id": "lPZiStxlFY_R"
   },
   "outputs": [
    {
     "data": {
      "text/plain": [
       "16"
      ]
     },
     "execution_count": 67,
     "metadata": {},
     "output_type": "execute_result"
    }
   ],
   "source": [
    "# raise 2 to the 4th power\n",
    "2 ** 4"
   ]
  },
  {
   "cell_type": "code",
   "execution_count": 68,
   "metadata": {
    "colab": {},
    "colab_type": "code",
    "id": "gzfQG3a2FY_T"
   },
   "outputs": [
    {
     "data": {
      "text/plain": [
       "1"
      ]
     },
     "execution_count": 68,
     "metadata": {},
     "output_type": "execute_result"
    }
   ],
   "source": [
    "# the mod function returns the remainder after division. Useful to check divisibility.\n",
    "10 % 3"
   ]
  },
  {
   "cell_type": "code",
   "execution_count": 69,
   "metadata": {},
   "outputs": [
    {
     "data": {
      "text/plain": [
       "3"
      ]
     },
     "execution_count": 69,
     "metadata": {},
     "output_type": "execute_result"
    }
   ],
   "source": [
    "# integer division\n",
    "10 // 3"
   ]
  },
  {
   "cell_type": "markdown",
   "metadata": {
    "colab_type": "text",
    "id": "dLUUbdxUFY_W"
   },
   "source": [
    "| Symbol | Task Performed |\n",
    "|----|---|\n",
    "| +  | Addition |\n",
    "| -  | Subtraction |\n",
    "| /  | division |\n",
    "| *  | multiplication |\n",
    "| **  | to the power of |\n",
    "| %  | mod |\n",
    "| //  | integer division |"
   ]
  },
  {
   "cell_type": "markdown",
   "metadata": {
    "colab_type": "text",
    "id": "XCXXRIs7FY_W"
   },
   "source": [
    "#### 1.2 Working with variables"
   ]
  },
  {
   "cell_type": "code",
   "execution_count": 70,
   "metadata": {
    "colab": {},
    "colab_type": "code",
    "id": "BfM4okA5FY_X"
   },
   "outputs": [],
   "source": [
    "# variables, such as x here, contain values and their values can vary\n",
    "x = 5"
   ]
  },
  {
   "cell_type": "code",
   "execution_count": 71,
   "metadata": {
    "colab": {},
    "colab_type": "code",
    "id": "MLx4FON5FY_a"
   },
   "outputs": [
    {
     "data": {
      "text/plain": [
       "5"
      ]
     },
     "execution_count": 71,
     "metadata": {},
     "output_type": "execute_result"
    }
   ],
   "source": [
    "# to inspect a value, just call it\n",
    "x"
   ]
  },
  {
   "cell_type": "code",
   "execution_count": 72,
   "metadata": {
    "colab": {},
    "colab_type": "code",
    "id": "JKlKxQH-FY_d"
   },
   "outputs": [
    {
     "data": {
      "text/plain": [
       "8"
      ]
     },
     "execution_count": 72,
     "metadata": {},
     "output_type": "execute_result"
    }
   ],
   "source": [
    "# you can perform calculations on variables\n",
    "x + 3"
   ]
  },
  {
   "cell_type": "code",
   "execution_count": 73,
   "metadata": {
    "colab": {},
    "colab_type": "code",
    "id": "m5S84P9fFY_g"
   },
   "outputs": [
    {
     "data": {
      "text/plain": [
       "5"
      ]
     },
     "execution_count": 73,
     "metadata": {},
     "output_type": "execute_result"
    }
   ],
   "source": [
    "# what's the value of x now?\n",
    "x"
   ]
  },
  {
   "cell_type": "code",
   "execution_count": 74,
   "metadata": {
    "colab": {},
    "colab_type": "code",
    "id": "tgYevYXIFY_j"
   },
   "outputs": [],
   "source": [
    "# to update the value of a variable, you have to do assignment again\n",
    "x = x + 3"
   ]
  },
  {
   "cell_type": "code",
   "execution_count": 75,
   "metadata": {
    "colab": {},
    "colab_type": "code",
    "id": "EpHuV74pFY_m"
   },
   "outputs": [
    {
     "data": {
      "text/plain": [
       "8"
      ]
     },
     "execution_count": 75,
     "metadata": {},
     "output_type": "execute_result"
    }
   ],
   "source": [
    "# now what's the value of x?\n",
    "x"
   ]
  },
  {
   "cell_type": "code",
   "execution_count": 76,
   "metadata": {
    "colab": {},
    "colab_type": "code",
    "id": "DdgdTdq0FY_p"
   },
   "outputs": [
    {
     "data": {
      "text/plain": [
       "10"
      ]
     },
     "execution_count": 76,
     "metadata": {},
     "output_type": "execute_result"
    }
   ],
   "source": [
    "# create a new variable y from a calculation involving x\n",
    "y = x + 2\n",
    "y"
   ]
  },
  {
   "cell_type": "code",
   "execution_count": 77,
   "metadata": {
    "colab": {},
    "colab_type": "code",
    "id": "gvjTYhQFFY_r"
   },
   "outputs": [
    {
     "data": {
      "text/plain": [
       "10"
      ]
     },
     "execution_count": 77,
     "metadata": {},
     "output_type": "execute_result"
    }
   ],
   "source": [
    "# calling two variables only displays the last one\n",
    "x\n",
    "y"
   ]
  },
  {
   "cell_type": "code",
   "execution_count": 78,
   "metadata": {
    "colab": {},
    "colab_type": "code",
    "id": "GKlnl4OOFY_t"
   },
   "outputs": [
    {
     "name": "stdout",
     "output_type": "stream",
     "text": [
      "8\n",
      "10\n"
     ]
    }
   ],
   "source": [
    "# use the print() function to output value(s) to the console\n",
    "print(x)\n",
    "print(y)"
   ]
  },
  {
   "cell_type": "code",
   "execution_count": 79,
   "metadata": {
    "colab": {},
    "colab_type": "code",
    "id": "QEufMXAiFY_w"
   },
   "outputs": [
    {
     "name": "stdout",
     "output_type": "stream",
     "text": [
      "8 10\n"
     ]
    }
   ],
   "source": [
    "# separate two values by commas to output on the same line\n",
    "print(x,y)"
   ]
  },
  {
   "cell_type": "code",
   "execution_count": 80,
   "metadata": {
    "colab": {},
    "colab_type": "code",
    "id": "QU1n08NSFY_y"
   },
   "outputs": [
    {
     "name": "stdout",
     "output_type": "stream",
     "text": [
      "80\n"
     ]
    }
   ],
   "source": [
    "# you can also print the output of an expression\n",
    "print(x * y)"
   ]
  },
  {
   "cell_type": "markdown",
   "metadata": {
    "colab_type": "text",
    "id": "a754u6frFY_0"
   },
   "source": [
    "NOTE: Use valid variable names!\n",
    "* Variable names can contain letters, numbers, and the underscore character.\n",
    "* You can't begin variable names with a digit, or use any of Python's _reserved words_ (eg. False, list, None, zip, else, class, ...).\n",
    "* Don't use a space in the middle of a variable name.\n",
    "\n",
    "| result | variable name |\n",
    "|----|----|\n",
    "| Valid | my_float, xyz_123, zip_code |\n",
    "| Error! | my float, 123_xyz, zip |"
   ]
  },
  {
   "cell_type": "markdown",
   "metadata": {
    "colab_type": "text",
    "id": "lzJGdUHSFY_1"
   },
   "source": [
    "#### 1.3 Getting help and using tab complete"
   ]
  },
  {
   "cell_type": "code",
   "execution_count": 81,
   "metadata": {
    "colab": {},
    "colab_type": "code",
    "id": "jweCde69FY_2"
   },
   "outputs": [],
   "source": [
    "# get iPython help on an expression by putting ? after it\n",
    "len?"
   ]
  },
  {
   "cell_type": "code",
   "execution_count": 82,
   "metadata": {
    "colab": {},
    "colab_type": "code",
    "id": "4PWVZMmGFY_7"
   },
   "outputs": [
    {
     "data": {
      "text/plain": [
       "<function print>"
      ]
     },
     "execution_count": 82,
     "metadata": {},
     "output_type": "execute_result"
    }
   ],
   "source": [
    "# use tab complete to fill in the rest of statements, functions, methods\n",
    "print"
   ]
  },
  {
   "cell_type": "code",
   "execution_count": 83,
   "metadata": {
    "colab": {},
    "colab_type": "code",
    "id": "Eulq40NqFY__"
   },
   "outputs": [],
   "source": [
    "# also use it to complete variable or functions that you defined yourself\n",
    "name_of_course = \"Academic Activities British\""
   ]
  },
  {
   "cell_type": "code",
   "execution_count": 84,
   "metadata": {
    "colab": {},
    "colab_type": "code",
    "id": "nk0xtkqBFZAC"
   },
   "outputs": [
    {
     "data": {
      "text/plain": [
       "'Academic Activities British'"
      ]
     },
     "execution_count": 84,
     "metadata": {},
     "output_type": "execute_result"
    }
   ],
   "source": [
    "name_of_course"
   ]
  },
  {
   "cell_type": "markdown",
   "metadata": {
    "colab_type": "text",
    "id": "AGNAJb7TFZAE"
   },
   "source": [
    "### 2. Basic data types: int, float, string\n",
    "These object types are the most basic building blocks when handling data in Python. Note that Python is an object-oriented language. Each object has a type, which determines what can be done with it. For instance, an object of type _int_ can be added to another _int_.\n",
    "\n",
    "In compiled languages like C++, the programmer has to declare the type of any variable before using it. By contrast, Python will **infer the type of variable you want** at run-time. It does this based on what characters you pass, whether they are surrounded by quote marks or brackets. This keeps the syntax much more 'natural' - but take care to learn the rules your Python interpreter applies."
   ]
  },
  {
   "cell_type": "code",
   "execution_count": 85,
   "metadata": {
    "colab": {},
    "colab_type": "code",
    "id": "xIX4JhPzFZAF"
   },
   "outputs": [
    {
     "data": {
      "text/plain": [
       "int"
      ]
     },
     "execution_count": 85,
     "metadata": {},
     "output_type": "execute_result"
    }
   ],
   "source": [
    "# integers are whole numbers\n",
    "x = 10\n",
    "type(x)"
   ]
  },
  {
   "cell_type": "code",
   "execution_count": 86,
   "metadata": {
    "colab": {},
    "colab_type": "code",
    "id": "a9CiOU7QFZAI"
   },
   "outputs": [
    {
     "data": {
      "text/plain": [
       "float"
      ]
     },
     "execution_count": 86,
     "metadata": {},
     "output_type": "execute_result"
    }
   ],
   "source": [
    "# floats are floating point (or decimal) numbers\n",
    "y = 4.25\n",
    "type(y)"
   ]
  },
  {
   "cell_type": "code",
   "execution_count": 89,
   "metadata": {
    "colab": {},
    "colab_type": "code",
    "id": "U1XN5qPlFZAO"
   },
   "outputs": [
    {
     "data": {
      "text/plain": [
       "str"
      ]
     },
     "execution_count": 89,
     "metadata": {},
     "output_type": "execute_result"
    }
   ],
   "source": [
    "# strings are sets of characters in a row, denoted by single or double quotes\n",
    "name_of_course = \"Academic Activities British\"\n",
    "type(name_of_course)"
   ]
  },
  {
   "cell_type": "code",
   "execution_count": 90,
   "metadata": {
    "colab": {},
    "colab_type": "code",
    "id": "H5GtCixRFZAQ"
   },
   "outputs": [
    {
     "data": {
      "text/plain": [
       "bool"
      ]
     },
     "execution_count": 90,
     "metadata": {},
     "output_type": "execute_result"
    }
   ],
   "source": [
    "# another data type is a Boolean, which has the possible values True or False\n",
    "\n",
    "my_enrollment_status = True\n",
    "type(my_enrollment_status)"
   ]
  },
  {
   "cell_type": "code",
   "execution_count": 91,
   "metadata": {
    "colab": {},
    "colab_type": "code",
    "id": "6DM8RmeiFZAS"
   },
   "outputs": [
    {
     "data": {
      "text/plain": [
       "False"
      ]
     },
     "execution_count": 91,
     "metadata": {},
     "output_type": "execute_result"
    }
   ],
   "source": [
    "# use isinstance to check an object's type\n",
    "isinstance(name_of_course, int)"
   ]
  },
  {
   "cell_type": "markdown",
   "metadata": {
    "colab_type": "text",
    "id": "m5XXpLUvFZAU"
   },
   "source": [
    "#### 2.1. Manipulating strings"
   ]
  },
  {
   "cell_type": "code",
   "execution_count": 92,
   "metadata": {
    "colab": {},
    "colab_type": "code",
    "id": "v1_LZlViFZAV"
   },
   "outputs": [],
   "source": [
    "# this is a string. It can be assigned to a variable. \n",
    "mystring = 'I am a string. Humans can interpret me easily'"
   ]
  },
  {
   "cell_type": "code",
   "execution_count": 93,
   "metadata": {
    "colab": {},
    "colab_type": "code",
    "id": "CZ2o1YJhFZAX"
   },
   "outputs": [
    {
     "name": "stdout",
     "output_type": "stream",
     "text": [
      "I am a string. Humans can interpret me easily\n"
     ]
    }
   ],
   "source": [
    "print(mystring)"
   ]
  },
  {
   "cell_type": "code",
   "execution_count": 94,
   "metadata": {
    "colab": {},
    "colab_type": "code",
    "id": "kzYBDtsXFZAa"
   },
   "outputs": [
    {
     "data": {
      "text/plain": [
       "'I am a string. Humans can interpret me easily. I love strings'"
      ]
     },
     "execution_count": 94,
     "metadata": {},
     "output_type": "execute_result"
    }
   ],
   "source": [
    "# strings can added together (concatenated)\n",
    "add_chunk = '. I love strings'\n",
    "mystring + add_chunk"
   ]
  },
  {
   "cell_type": "code",
   "execution_count": 95,
   "metadata": {
    "colab": {},
    "colab_type": "code",
    "id": "I_Ct8bOnFZAe"
   },
   "outputs": [
    {
     "ename": "TypeError",
     "evalue": "unsupported operand type(s) for -: 'str' and 'str'",
     "output_type": "error",
     "traceback": [
      "\u001b[1;31m---------------------------------------------------------------------------\u001b[0m",
      "\u001b[1;31mTypeError\u001b[0m                                 Traceback (most recent call last)",
      "\u001b[1;32m<ipython-input-95-f7baed0c2e92>\u001b[0m in \u001b[0;36m<module>\u001b[1;34m\u001b[0m\n\u001b[0;32m      1\u001b[0m \u001b[1;31m# but they can't be subtracted\u001b[0m\u001b[1;33m\u001b[0m\u001b[1;33m\u001b[0m\u001b[1;33m\u001b[0m\u001b[0m\n\u001b[1;32m----> 2\u001b[1;33m \u001b[0mmystring\u001b[0m \u001b[1;33m-\u001b[0m \u001b[0madd_chunk\u001b[0m\u001b[1;33m\u001b[0m\u001b[1;33m\u001b[0m\u001b[0m\n\u001b[0m",
      "\u001b[1;31mTypeError\u001b[0m: unsupported operand type(s) for -: 'str' and 'str'"
     ]
    }
   ],
   "source": [
    "# but they can't be subtracted\n",
    "mystring - add_chunk"
   ]
  },
  {
   "cell_type": "code",
   "execution_count": 96,
   "metadata": {
    "colab": {},
    "colab_type": "code",
    "id": "MSMjEb3hFZAg"
   },
   "outputs": [
    {
     "data": {
      "text/plain": [
       "'. I love strings. I love strings. I love strings'"
      ]
     },
     "execution_count": 96,
     "metadata": {},
     "output_type": "execute_result"
    }
   ],
   "source": [
    "# they can be repeated with *\n",
    "add_chunk * 3"
   ]
  },
  {
   "cell_type": "code",
   "execution_count": 97,
   "metadata": {
    "colab": {},
    "colab_type": "code",
    "id": "4ubiGMFxFZAi"
   },
   "outputs": [
    {
     "name": "stdout",
     "output_type": "stream",
     "text": [
      "I am a string. Humans can interpret me easily\n"
     ]
    },
    {
     "data": {
      "text/plain": [
       "' Humans can interpret me easily'"
      ]
     },
     "execution_count": 97,
     "metadata": {},
     "output_type": "execute_result"
    }
   ],
   "source": [
    "# Each object type has a set of 'methods' (ie. built-in operations) attached to it. \n",
    "# Access these with dot notation.\n",
    "print (mystring)\n",
    "mystring.split('.')[-1]"
   ]
  },
  {
   "cell_type": "code",
   "execution_count": 98,
   "metadata": {
    "colab": {},
    "colab_type": "code",
    "id": "yUQhBbO8FZAm"
   },
   "outputs": [
    {
     "data": {
      "text/plain": [
       "13"
      ]
     },
     "execution_count": 98,
     "metadata": {},
     "output_type": "execute_result"
    }
   ],
   "source": [
    "# the built-in function len() returns the number of characters\n",
    "new_string = \"Data Literacy\"\n",
    "len(new_string)"
   ]
  },
  {
   "cell_type": "code",
   "execution_count": 99,
   "metadata": {
    "colab": {},
    "colab_type": "code",
    "id": "poL_7O1WFZAp"
   },
   "outputs": [
    {
     "name": "stdout",
     "output_type": "stream",
     "text": [
      "My output: 0.9999999999999\n",
      "My output: 1.000\n"
     ]
    }
   ],
   "source": [
    "# use .format() to print variables alongside strings\n",
    "# to keep your outputs neat, you might want to limit the decimal places\n",
    "value_to_print = 0.9999999999999\n",
    "print(\"My output: {}\".format(value_to_print))\n",
    "print(\"My output: {:.3f}\".format(value_to_print))"
   ]
  },
  {
   "cell_type": "markdown",
   "metadata": {
    "colab_type": "text",
    "id": "HVBxgKodFZBD"
   },
   "source": [
    "### 3. Data types: lists\n",
    "Ints, floats and strings are the most basic data structures (think of them as atoms). Next, we'll look at data types that combine those atoms. Lists, tuples and dictionaries are compound data structures that group together other items.\n",
    "\n",
    "|Data structure | Properties| Syntax|\n",
    "|----|----|----|\n",
    "|List | Ordered, mutable sequence | mylist = [1,2,3] |\n",
    "|Tuple | Ordered, immutable sequence | mytuple = (1,2,3) |\n",
    "|Set | Unordered set of unique values | myset = set(1,2,3) |\n",
    "|Dictionary | Mutable set of key, value pairs | mydict = {'first_value':1, 'second_value:2} |\n"
   ]
  },
  {
   "cell_type": "markdown",
   "metadata": {
    "colab_type": "text",
    "id": "IW6L2fO0FZBE"
   },
   "source": [
    "#### 3.1 Manipulating lists\n",
    "Lists are collections of items. To create one, put a series of items in square brackets, separated by commas. Lists can contain items of different types. They are helpful when your data has an order and may need to be changed in place."
   ]
  },
  {
   "cell_type": "code",
   "execution_count": 100,
   "metadata": {
    "colab": {},
    "colab_type": "code",
    "id": "dX3zMsRZFZBF"
   },
   "outputs": [
    {
     "data": {
      "text/plain": [
       "['monday', 'tuesday', 'wednesday', 'thursday', 'friday']"
      ]
     },
     "execution_count": 100,
     "metadata": {},
     "output_type": "execute_result"
    }
   ],
   "source": [
    "# create a list of strings\n",
    "weekdays = ['monday','tuesday','wednesday','thursday','friday']\n",
    "weekdays"
   ]
  },
  {
   "cell_type": "code",
   "execution_count": 101,
   "metadata": {
    "colab": {},
    "colab_type": "code",
    "id": "zUHRctAkFZBK"
   },
   "outputs": [
    {
     "data": {
      "text/plain": [
       "'monday'"
      ]
     },
     "execution_count": 101,
     "metadata": {},
     "output_type": "execute_result"
    }
   ],
   "source": [
    "# Lists are ordered collections; they are indexed starting at zero.\n",
    "# To get an individual item, use square brackets and the appropriate index value.\n",
    "weekdays[0]"
   ]
  },
  {
   "cell_type": "code",
   "execution_count": 103,
   "metadata": {
    "colab": {},
    "colab_type": "code",
    "id": "h8UTcae0FZBN"
   },
   "outputs": [
    {
     "data": {
      "text/plain": [
       "['friday', 'thursday', 'wednesday']"
      ]
     },
     "execution_count": 103,
     "metadata": {},
     "output_type": "execute_result"
    }
   ],
   "source": [
    "# select slices (eg. the first to the fourth item) with square bracket notation\n",
    "weekdays\n",
    "weekdays[0:3]"
   ]
  },
  {
   "cell_type": "code",
   "execution_count": 104,
   "metadata": {
    "colab": {},
    "colab_type": "code",
    "id": "gcwrRnrJFZBR"
   },
   "outputs": [
    {
     "data": {
      "text/plain": [
       "list"
      ]
     },
     "execution_count": 104,
     "metadata": {},
     "output_type": "execute_result"
    }
   ],
   "source": [
    "# check the type of items in a list\n",
    "type(weekdays)"
   ]
  },
  {
   "cell_type": "code",
   "execution_count": 105,
   "metadata": {
    "colab": {},
    "colab_type": "code",
    "id": "ChkB0R-8FZBU"
   },
   "outputs": [
    {
     "data": {
      "text/plain": [
       "['friday', 'thursday', 'wednesday', 'thursday - practice Python!', 'monday']"
      ]
     },
     "execution_count": 105,
     "metadata": {},
     "output_type": "execute_result"
    }
   ],
   "source": [
    "# a list is a mutable, you can change its contents in-place\n",
    "weekdays[3] = 'thursday - practice Python!'\n",
    "weekdays"
   ]
  },
  {
   "cell_type": "code",
   "execution_count": 106,
   "metadata": {
    "colab": {},
    "colab_type": "code",
    "id": "lq91KcINFZBW"
   },
   "outputs": [
    {
     "data": {
      "text/plain": [
       "['friday',\n",
       " 'thursday',\n",
       " 'wednesday',\n",
       " 'thursday - practice Python!',\n",
       " 'monday',\n",
       " 'saturday']"
      ]
     },
     "execution_count": 106,
     "metadata": {},
     "output_type": "execute_result"
    }
   ],
   "source": [
    "# add an item to a list with append()\n",
    "weekdays.append('saturday')\n",
    "weekdays"
   ]
  },
  {
   "cell_type": "code",
   "execution_count": 107,
   "metadata": {
    "colab": {},
    "colab_type": "code",
    "id": "TRM2A3F_FZBX"
   },
   "outputs": [
    {
     "data": {
      "text/plain": [
       "True"
      ]
     },
     "execution_count": 107,
     "metadata": {},
     "output_type": "execute_result"
    }
   ],
   "source": [
    "# test for a value in your list\n",
    "'saturday' in weekdays"
   ]
  },
  {
   "cell_type": "code",
   "execution_count": null,
   "metadata": {
    "colab": {},
    "colab_type": "code",
    "id": "Zo_i3-mfFZBZ"
   },
   "outputs": [],
   "source": [
    "# use .remove() to clean up the weekdays list\n",
    "weekdays.remove('saturday')\n",
    "weekdays"
   ]
  },
  {
   "cell_type": "code",
   "execution_count": null,
   "metadata": {
    "colab": {},
    "colab_type": "code",
    "id": "pt9fFFIhFZBa"
   },
   "outputs": [],
   "source": [
    "# concatenate two lists\n",
    "odds = [1,3,5]\n",
    "evens = [2,4,6]\n",
    "all_nums = odds + evens\n",
    "all_nums"
   ]
  },
  {
   "cell_type": "code",
   "execution_count": null,
   "metadata": {
    "colab": {},
    "colab_type": "code",
    "id": "KPFFkwljFZBb"
   },
   "outputs": [],
   "source": [
    "# the built-in function len() also applies to lists\n",
    "len(all_nums)"
   ]
  },
  {
   "cell_type": "markdown",
   "metadata": {
    "colab_type": "text",
    "id": "6129-pe_FZBd"
   },
   "source": [
    "### 4. Logic and control flow - quick intro\n",
    "\n",
    "Definition of **control flow**:\n",
    "* In a simple script, program execution starts at the top and executes each instruction in order. \n",
    "* **Control flow** statements can cause the execution to loop and skip instructions based on conditions."
   ]
  },
  {
   "cell_type": "markdown",
   "metadata": {
    "colab_type": "text",
    "id": "qn3zEbdPFZBe"
   },
   "source": [
    "#### 4.1 Loops and iterables\n",
    "Definition: an **iterable** is an object capable of returning its members one at a time. Strings, lists and dictionaries are all iterables.\n",
    "\n",
    "A **for loop** runs a block of code repeatedly \"for\" each item in an iterable. End the declaration with : and indent the subsidiary code."
   ]
  },
  {
   "cell_type": "code",
   "execution_count": 108,
   "metadata": {
    "colab": {},
    "colab_type": "code",
    "id": "Kl7IqtLVFZBe"
   },
   "outputs": [
    {
     "name": "stdout",
     "output_type": "stream",
     "text": [
      "I love red\n",
      "I love green\n",
      "I love blue\n"
     ]
    }
   ],
   "source": [
    "for color in ['red','green','blue']:\n",
    "    print(\"I love \" + color)"
   ]
  },
  {
   "cell_type": "code",
   "execution_count": 109,
   "metadata": {
    "colab": {},
    "colab_type": "code",
    "id": "nYzZYfwVFZBi"
   },
   "outputs": [
    {
     "name": "stdout",
     "output_type": "stream",
     "text": [
      "A\n",
      "B\n",
      "C\n",
      "D\n"
     ]
    }
   ],
   "source": [
    "# or characters in a string\n",
    "for letter in 'abcd':\n",
    "    print(letter.upper())"
   ]
  },
  {
   "cell_type": "code",
   "execution_count": 112,
   "metadata": {
    "colab": {},
    "colab_type": "code",
    "id": "hY31tEPhFZBk"
   },
   "outputs": [
    {
     "name": "stdout",
     "output_type": "stream",
     "text": [
      "I ate 1 donuts\n",
      "I ate 3 donuts\n"
     ]
    }
   ],
   "source": [
    "# the range() function produces a helpful iterator\n",
    "for n in range(1, 5, 2):\n",
    "    print(\"I ate {} donuts\".format(n))"
   ]
  },
  {
   "cell_type": "code",
   "execution_count": 114,
   "metadata": {
    "colab": {},
    "colab_type": "code",
    "id": "DZBI2wiKFZBm"
   },
   "outputs": [
    {
     "name": "stdout",
     "output_type": "stream",
     "text": [
      "I am small 0I am small 1I am small 2I am small 3I am small 4\n"
     ]
    }
   ],
   "source": [
    "# a while loop allows you to move through part of an iterable until a condition is met\n",
    "result = \"\"\n",
    "a = 0\n",
    "while a < 5:\n",
    "    result = result + 'I am small {}'.format(a)\n",
    "    a += 1\n",
    "print(result)\n"
   ]
  },
  {
   "cell_type": "markdown",
   "metadata": {
    "colab_type": "text",
    "id": "9za_4fttFZBn"
   },
   "source": [
    "#### 4.2 Logic operators\n",
    "\n",
    "We test conditions using logic operators.\n",
    "\n",
    "| Symbol | Task Performed |\n",
    "|----|---|\n",
    "| == | True, if it is equal |\n",
    "| !=  | True, if not equal to |\n",
    "| < | less than |\n",
    "| <= | less than or equal to |\n",
    "| > | greater than |\n",
    "| >= | greater than or equal to |"
   ]
  },
  {
   "cell_type": "code",
   "execution_count": null,
   "metadata": {
    "colab": {},
    "colab_type": "code",
    "id": "8TDX2rmMFZBr"
   },
   "outputs": [],
   "source": [
    "# NOTE: We declare variables using '='\n",
    "a = 5\n",
    "b = 7"
   ]
  },
  {
   "cell_type": "code",
   "execution_count": null,
   "metadata": {
    "colab": {},
    "colab_type": "code",
    "id": "f0Ni3oqKFZBt"
   },
   "outputs": [],
   "source": [
    "# But compare them using '=='\n",
    "a == b"
   ]
  },
  {
   "cell_type": "code",
   "execution_count": null,
   "metadata": {
    "colab": {},
    "colab_type": "code",
    "id": "fMeNcNnrFZBv"
   },
   "outputs": [],
   "source": [
    "# Test whether a does not equal b\n",
    "a != b"
   ]
  },
  {
   "cell_type": "code",
   "execution_count": null,
   "metadata": {
    "colab": {},
    "colab_type": "code",
    "id": "aUwlPB5tFZBw"
   },
   "outputs": [],
   "source": [
    "# Logic expressions evaluate to True or False (datatype: Boolean)\n",
    "\n",
    "test = b > a\n",
    "\n",
    "test"
   ]
  },
  {
   "cell_type": "code",
   "execution_count": null,
   "metadata": {
    "colab": {},
    "colab_type": "code",
    "id": "65hM-9qsFZBy"
   },
   "outputs": [],
   "source": [
    "type(test)"
   ]
  },
  {
   "cell_type": "markdown",
   "metadata": {
    "colab_type": "text",
    "id": "636OY4RLFZBz"
   },
   "source": [
    "#### 4.3 Conditional statements with if\n",
    "\n",
    "Your friend wants to buy a new phone. She has a budget of Rs 10000. She will purchase it if it is in her budget. \n",
    "\n",
    "Do this with 'if', 'elif' (else if), and 'else'."
   ]
  },
  {
   "cell_type": "code",
   "execution_count": null,
   "metadata": {
    "colab": {},
    "colab_type": "code",
    "id": "7skr_svXFZB0"
   },
   "outputs": [],
   "source": [
    "price = 5000"
   ]
  },
  {
   "cell_type": "code",
   "execution_count": null,
   "metadata": {
    "colab": {},
    "colab_type": "code",
    "id": "wEaL71USFZB1"
   },
   "outputs": [],
   "source": [
    "if price < 10000:\n",
    "    print ('sure')\n",
    "elif price == 10000:\n",
    "    print ('hmm maybe')\n",
    "else:\n",
    "    print ('no thanks')"
   ]
  },
  {
   "cell_type": "markdown",
   "metadata": {
    "colab_type": "text",
    "id": "HFPoPteMFZB2"
   },
   "source": [
    "NOTE: Here's how the structure works:\n",
    "* start with an 'if' statement, specifying the logical test to apply\n",
    "* make sure your 'if' statement ends with :\n",
    "* **indent the conditional code block.** Whatever code should be executed if the condition is true, indent it with a tab.\n",
    "* test additional actions using 'elif', and any other actions with 'else'."
   ]
  },
  {
   "cell_type": "markdown",
   "metadata": {
    "colab_type": "text",
    "id": "DO7XMTinFZB4"
   },
   "source": [
    "#### 4.4 Testing conditions inside a loop\n",
    "Combining loops with logic allows you to build more sophisticated code structures:"
   ]
  },
  {
   "cell_type": "code",
   "execution_count": 117,
   "metadata": {
    "colab": {},
    "colab_type": "code",
    "id": "G40pBo5vFZB5"
   },
   "outputs": [
    {
     "name": "stdout",
     "output_type": "stream",
     "text": [
      "Mon --> Work\n",
      "Tue --> Work\n",
      "Wed --> Work\n",
      "Thu --> Work\n",
      "Fri --> Work\n",
      "Sat --> Home!\n",
      "Sun --> Ready for work!\n"
     ]
    }
   ],
   "source": [
    "days = ['Mon','Tue','Wed','Thu','Fri','Sat','Sun']\n",
    "\n",
    "for day in days:\n",
    "    if day == 'Sat':\n",
    "        location = '--> Home!'\n",
    "    elif day == 'Sun':\n",
    "        location = '--> Ready for work!'\n",
    "    else:\n",
    "        location = '--> Work'\n",
    "    print(day, location)"
   ]
  },
  {
   "cell_type": "code",
   "execution_count": 118,
   "metadata": {
    "colab": {},
    "colab_type": "code",
    "id": "m6IJLeCLFZB6"
   },
   "outputs": [
    {
     "name": "stdout",
     "output_type": "stream",
     "text": [
      "Welcome to Nabin's Apartment Block.\n",
      "Type your pet's breed to see if it's accepted:monkey\n",
      "Sorry your monkey is NOT ACCEPTED\n"
     ]
    }
   ],
   "source": [
    "# EXAMPLE 2: is your pet allowed?\n",
    "\n",
    "authorized_pets = ['dog', 'cat', 'fish']\n",
    "\n",
    "print(\"Welcome to Nabin's Apartment Block.\")\n",
    "my_pet = input(\"Type your pet's breed to see if it's accepted:\")\n",
    "\n",
    "if my_pet in authorized_pets:\n",
    "    print(\"Congratulations, your {} is welcome here!\".format(my_pet))\n",
    "else:\n",
    "    print(\"Sorry your {} is NOT ACCEPTED\".format(my_pet))"
   ]
  },
  {
   "cell_type": "code",
   "execution_count": 119,
   "metadata": {},
   "outputs": [
    {
     "name": "stdout",
     "output_type": "stream",
     "text": [
      "Enter a number : monkey\n",
      "invalid input\n",
      "Enter a number : mon\n",
      "invalid input\n",
      "Enter a number : moe\n",
      "invalid input\n",
      "Enter a number : sdl\n",
      "invalid input\n",
      "Enter a number : 10\n"
     ]
    }
   ],
   "source": [
    "# Exception Handling\n",
    "while True:\n",
    "    try:\n",
    "        a = int(input('Enter a number : '))\n",
    "    except ValueError:\n",
    "        print ('invalid input')\n",
    "    else:\n",
    "        break"
   ]
  },
  {
   "cell_type": "markdown",
   "metadata": {
    "colab_type": "text",
    "id": "IfXn4M_lcrUJ"
   },
   "source": [
    "## Problem 1 Exercise on conditions:\n",
    "\n",
    "1. Break down the problem\n",
    "2. How do you know if a number is even or odd? Can you use the modulo operation?\n",
    "3. Use if-else based on modulo operation result.\n",
    "4. Complete the problem \n",
    "\n",
    "## Problem 2 Exercise on loop:\n",
    "\n",
    "1. Break down the problem\n",
    "2.Choose the loop you prefer (for/while)\n",
    "3. First of all, print the first 100 numbers\n",
    "4. Complete the problem\n"
   ]
  },
  {
   "cell_type": "code",
   "execution_count": null,
   "metadata": {
    "colab": {},
    "colab_type": "code",
    "id": "dS_2KSPaZUr8"
   },
   "outputs": [],
   "source": []
  },
  {
   "cell_type": "code",
   "execution_count": null,
   "metadata": {},
   "outputs": [],
   "source": []
  },
  {
   "cell_type": "code",
   "execution_count": null,
   "metadata": {},
   "outputs": [],
   "source": []
  },
  {
   "cell_type": "code",
   "execution_count": null,
   "metadata": {},
   "outputs": [],
   "source": []
  },
  {
   "cell_type": "markdown",
   "metadata": {},
   "source": [
    "## Jupyter Notebooks"
   ]
  },
  {
   "cell_type": "markdown",
   "metadata": {},
   "source": [
    "### Why?\n",
    "> 1. Literate Programming\n",
    "> 2. Reproducible Results\n",
    "> 3. Teaching and Learning\n",
    "> 4. Prototyping"
   ]
  },
  {
   "cell_type": "code",
   "execution_count": null,
   "metadata": {},
   "outputs": [],
   "source": []
  },
  {
   "cell_type": "markdown",
   "metadata": {},
   "source": [
    "## Hotkeys\n",
    "1. Press Esc+B to insert cell below.\n",
    "2. Press Esc+A to insert cell above.\n",
    "3. Press Esc+D to delete a cell.\n",
    "4. Press Shift+Enter to run a cell."
   ]
  },
  {
   "cell_type": "markdown",
   "metadata": {},
   "source": [
    "### Data Structures"
   ]
  },
  {
   "cell_type": "markdown",
   "metadata": {},
   "source": [
    "#### List"
   ]
  },
  {
   "cell_type": "markdown",
   "metadata": {},
   "source": [
    "In computer science, an array data structure, or simply an array, is a data structure consisting of a collection of elements (values or variables), each identified by at least one array index or key. An array is stored such that the position of each element can be computed from its index tuple by a mathematical formula. The simplest type of data structure is a linear array, also called one-dimensional array.\n",
    "\n",
    "In python, arrays are list."
   ]
  },
  {
   "cell_type": "code",
   "execution_count": null,
   "metadata": {},
   "outputs": [],
   "source": [
    "my_list = [1, 2, 3]"
   ]
  },
  {
   "cell_type": "code",
   "execution_count": null,
   "metadata": {},
   "outputs": [],
   "source": [
    "my_list.append(4)"
   ]
  },
  {
   "cell_type": "code",
   "execution_count": null,
   "metadata": {},
   "outputs": [],
   "source": [
    "# List can be empty\n",
    "empty_list = []"
   ]
  },
  {
   "cell_type": "code",
   "execution_count": null,
   "metadata": {},
   "outputs": [],
   "source": [
    "# an example of list\n",
    "prime_list = [2, 3, 5, 7, 11, 13]"
   ]
  },
  {
   "cell_type": "code",
   "execution_count": null,
   "metadata": {},
   "outputs": [],
   "source": [
    "# an example of mixed list\n",
    "mixed_list = [1, True, 'apple', 4.6, [1, 2, 3, 5, 7, 11, 13]]"
   ]
  },
  {
   "cell_type": "code",
   "execution_count": null,
   "metadata": {},
   "outputs": [],
   "source": [
    "# Looping through the list\n",
    "for item in prime_list:\n",
    "    print (item)"
   ]
  },
  {
   "cell_type": "code",
   "execution_count": null,
   "metadata": {},
   "outputs": [],
   "source": [
    "# Adding an item to list\n",
    "prime_list.append(17)"
   ]
  },
  {
   "cell_type": "code",
   "execution_count": null,
   "metadata": {},
   "outputs": [],
   "source": [
    "prime_list = prime_list + [19, 23, 31]"
   ]
  },
  {
   "cell_type": "code",
   "execution_count": null,
   "metadata": {},
   "outputs": [],
   "source": [
    "prime_list"
   ]
  },
  {
   "cell_type": "code",
   "execution_count": null,
   "metadata": {},
   "outputs": [],
   "source": [
    "prime_list.extend([37, 39, 41])"
   ]
  },
  {
   "cell_type": "code",
   "execution_count": null,
   "metadata": {},
   "outputs": [],
   "source": [
    "prime_list"
   ]
  },
  {
   "cell_type": "markdown",
   "metadata": {},
   "source": [
    "#### The list data type has some more methods. Here are all of the methods of list objects:\n",
    "\n",
    "1. list.append(x)\n",
    "> Add an item to the end of the list; equivalent to a[len(a):] = [x].\n",
    "\n",
    "2. list.extend(L)\n",
    "> Extend the list by appending all the items in the given list; equivalent to a[len(a):] = L.\n",
    "\n",
    "3. list.insert(i, x)\n",
    "> Insert an item at a given position. The first argument is the index of the element before which to insert, so a.insert(0, x) inserts at the front of the list, and a.insert(len(a), x) is equivalent to a.append(x).\n",
    "\n",
    "4. list.remove(x)\n",
    "> Remove the first item from the list whose value is x. It is an error if there is no such item.\n",
    "\n",
    "5. list.pop([i])\n",
    "> Remove the item at the given position in the list, and return it. If no index is specified, a.pop() removes and returns the last item in the list. (The square brackets around the i in the method signature denote that the parameter is optional, not that you should type square brackets at that position. You will see this notation frequently in the Python Library Reference.)\n",
    "\n",
    "6. list.index(x)\n",
    "> Return the index in the list of the first item whose value is x. It is an error if there is no such item.\n",
    "\n",
    "7. list.count(x)\n",
    "> Return the number of times x appears in the list.\n",
    "\n",
    "8. list.sort(cmp=None, key=None, reverse=False)\n",
    "> Sort the items of the list in place (the arguments can be used for sort customization, see sorted() for their explanation).\n",
    "\n",
    "9. list.reverse()\n",
    "> Reverse the elements of the list, in place."
   ]
  },
  {
   "cell_type": "markdown",
   "metadata": {},
   "source": [
    "##### Random"
   ]
  },
  {
   "cell_type": "code",
   "execution_count": 120,
   "metadata": {},
   "outputs": [],
   "source": [
    "import random"
   ]
  },
  {
   "cell_type": "code",
   "execution_count": 121,
   "metadata": {},
   "outputs": [
    {
     "data": {
      "text/plain": [
       "14"
      ]
     },
     "execution_count": 121,
     "metadata": {},
     "output_type": "execute_result"
    }
   ],
   "source": [
    "# random drawing of a card from a deck of card\n",
    "random.randint(1,52)"
   ]
  },
  {
   "cell_type": "code",
   "execution_count": 122,
   "metadata": {},
   "outputs": [],
   "source": [
    "# size is taas kati katne\n",
    "def random_list(size):\n",
    "    my_list = []\n",
    "    for i in range(size):\n",
    "        random_card = random.randint(1,52)\n",
    "        \n",
    "        my_list.append(random_card)\n",
    "    return my_list"
   ]
  },
  {
   "cell_type": "code",
   "execution_count": 124,
   "metadata": {},
   "outputs": [
    {
     "name": "stdout",
     "output_type": "stream",
     "text": [
      "[50, 16, 11]\n"
     ]
    }
   ],
   "source": [
    "my_card_deck = random_list(3)\n",
    "print (my_card_deck)"
   ]
  },
  {
   "cell_type": "markdown",
   "metadata": {},
   "source": [
    "#### Set"
   ]
  },
  {
   "cell_type": "markdown",
   "metadata": {},
   "source": [
    "In computer science, a set is an abstract data type that can store unique values, without any particular order. It is a computer implementation of the mathematical concept of a finite set. Unlike most other collection types, rather than retrieving a specific element from a set, one typically tests a value for membership in a set."
   ]
  },
  {
   "cell_type": "code",
   "execution_count": 125,
   "metadata": {},
   "outputs": [],
   "source": [
    "a = {1, 2, 3, 4, 5}"
   ]
  },
  {
   "cell_type": "code",
   "execution_count": 126,
   "metadata": {},
   "outputs": [
    {
     "data": {
      "text/plain": [
       "set"
      ]
     },
     "execution_count": 126,
     "metadata": {},
     "output_type": "execute_result"
    }
   ],
   "source": [
    "type(a)"
   ]
  },
  {
   "cell_type": "code",
   "execution_count": 127,
   "metadata": {},
   "outputs": [],
   "source": [
    "b = {1, 1, 2, 3}"
   ]
  },
  {
   "cell_type": "code",
   "execution_count": 128,
   "metadata": {},
   "outputs": [
    {
     "data": {
      "text/plain": [
       "{1, 2, 3}"
      ]
     },
     "execution_count": 128,
     "metadata": {},
     "output_type": "execute_result"
    }
   ],
   "source": [
    "b"
   ]
  },
  {
   "cell_type": "code",
   "execution_count": 129,
   "metadata": {},
   "outputs": [],
   "source": [
    "# add to set\n",
    "b.add(5)"
   ]
  },
  {
   "cell_type": "code",
   "execution_count": 130,
   "metadata": {},
   "outputs": [],
   "source": [
    "# remove from set\n",
    "b.discard(5)"
   ]
  },
  {
   "cell_type": "markdown",
   "metadata": {},
   "source": [
    "#### Intersection, Union and Difference"
   ]
  },
  {
   "cell_type": "code",
   "execution_count": 131,
   "metadata": {},
   "outputs": [],
   "source": [
    "a = {2, 4, 6, 8, 10, 12, 14, 16, 18, 20}\n",
    "b = {3, 6, 9, 12, 15, 18, 21}"
   ]
  },
  {
   "cell_type": "code",
   "execution_count": 132,
   "metadata": {},
   "outputs": [
    {
     "data": {
      "text/plain": [
       "{2, 3, 4, 6, 8, 9, 10, 12, 14, 15, 16, 18, 20, 21}"
      ]
     },
     "execution_count": 132,
     "metadata": {},
     "output_type": "execute_result"
    }
   ],
   "source": [
    "a | b"
   ]
  },
  {
   "cell_type": "code",
   "execution_count": 133,
   "metadata": {},
   "outputs": [
    {
     "data": {
      "text/plain": [
       "{6, 12, 18}"
      ]
     },
     "execution_count": 133,
     "metadata": {},
     "output_type": "execute_result"
    }
   ],
   "source": [
    "a & b"
   ]
  },
  {
   "cell_type": "code",
   "execution_count": 134,
   "metadata": {},
   "outputs": [
    {
     "data": {
      "text/plain": [
       "{2, 4, 8, 10, 14, 16, 20}"
      ]
     },
     "execution_count": 134,
     "metadata": {},
     "output_type": "execute_result"
    }
   ],
   "source": [
    "a - b"
   ]
  },
  {
   "cell_type": "code",
   "execution_count": 135,
   "metadata": {},
   "outputs": [
    {
     "data": {
      "text/plain": [
       "{3, 9, 15, 21}"
      ]
     },
     "execution_count": 135,
     "metadata": {},
     "output_type": "execute_result"
    }
   ],
   "source": [
    "b - a"
   ]
  },
  {
   "cell_type": "code",
   "execution_count": 136,
   "metadata": {},
   "outputs": [],
   "source": [
    "#### Converting list to set and vice versa"
   ]
  },
  {
   "cell_type": "code",
   "execution_count": 137,
   "metadata": {},
   "outputs": [],
   "source": [
    "list_a = [1, 2, 3, 4, 5]"
   ]
  },
  {
   "cell_type": "code",
   "execution_count": 138,
   "metadata": {},
   "outputs": [],
   "source": [
    "set_a = set(list_a)"
   ]
  },
  {
   "cell_type": "code",
   "execution_count": 139,
   "metadata": {},
   "outputs": [
    {
     "data": {
      "text/plain": [
       "{1, 2, 3, 4, 5}"
      ]
     },
     "execution_count": 139,
     "metadata": {},
     "output_type": "execute_result"
    }
   ],
   "source": [
    "set_a"
   ]
  },
  {
   "cell_type": "code",
   "execution_count": null,
   "metadata": {},
   "outputs": [],
   "source": [
    "x = [1, 2, 3, 4, 5]\n",
    "len(x)==len(set(x))"
   ]
  },
  {
   "cell_type": "markdown",
   "metadata": {},
   "source": [
    "### Monte Carlo Simulation"
   ]
  },
  {
   "cell_type": "markdown",
   "metadata": {},
   "source": [
    "Monte Carlo methods (or Monte Carlo experiments) are a broad class of computational algorithms that rely on repeated random sampling to obtain numerical results. Their essential idea is using randomness to solve problems that might be deterministic in principle. They are often used in physical and mathematical problems and are most useful when it is difficult or impossible to use other approaches. Monte Carlo methods are mainly used in three problem classes:optimization, numerical integration, and generating draws from a probability distribution."
   ]
  },
  {
   "cell_type": "code",
   "execution_count": 142,
   "metadata": {},
   "outputs": [
    {
     "name": "stdout",
     "output_type": "stream",
     "text": [
      "1.0\n"
     ]
    }
   ],
   "source": [
    "iterations = 1\n",
    "count = 0\n",
    "number_of_people = 23\n",
    "for i in range(iterations):\n",
    "    birthday_list = []\n",
    "    for i in range(number_of_people):\n",
    "        birthday_list.append(random.randint(1, 365))\n",
    "    if (len(birthday_list)) != len(set(birthday_list)):\n",
    "        count = count + 1\n",
    "print (count/iterations)"
   ]
  },
  {
   "cell_type": "markdown",
   "metadata": {},
   "source": [
    "### Abstract Data Types and Classes\n",
    "\n",
    "\n",
    "\n",
    "#### Think about storing a point (the kind that you learnt in coordinate geometry).\n",
    "1. What are the values that you need to store?\n",
    "    What are the data types of the values?\n",
    "    What can and cannot you store? Give Examples\n",
    "2. What are the operations that you can perform?\n",
    "    What inputs and outputs do you expect in each operation?\n",
    "    What might cause an error?\n",
    "3. Document on a piece of paper.\n",
    "4. Write the class in python"
   ]
  },
  {
   "cell_type": "markdown",
   "metadata": {},
   "source": [
    "\n",
    "### Abstract Data Type: Point\n",
    "The coordinates of a point are a pair of numbers that define its exact location on a two-dimensional plane. Point is a data type to store a point in two-dimensional plane.\n",
    "\n",
    "\n",
    "| Attributes   \t| Type  \t| Definition                       \t|\n",
    "|--------------\t|-------\t|----------------------------------\t|\n",
    "| x coordinate \t| float \t| value of x coordinate in a point \t|\n",
    "| y coordinate \t| float \t| value of y coordinate in a point \t|\n",
    "\n",
    "Supported types examples: float, int\n",
    "Unsupported types examples: String, List etc. \n",
    "\n",
    "### Operations:\n",
    "| Operation          \t| Input           \t| Input Type \t| Output         \t| Output Type \t| Description                                                                 \t|\n",
    "|--------------------\t|-----------------\t|------------\t|----------------\t|-------------\t|-----------------------------------------------------------------------------\t|\n",
    "| get y              \t| None            \t| -          \t| y coordinate   \t| float       \t| return value of y coordinate                                                \t|\n",
    "| set x              \t| new value for x \t| float      \t| None           \t| -           \t| set new value of x coordinate                                               \t|\n",
    "| set y              \t| new value for y \t| float      \t| None           \t| -           \t| set new value of y coordinate                                               \t|\n",
    "| calculate distance \t| another Point   \t| Point      \t| distance       \t| float       \t| calculate the abs distance between two points                               \t|\n",
    "| which quadrant     \t| None            \t| -          \t| which quadrant \t| int         \t| return 1, 2, 3, 4 for first, second, third and fourth quadrant respectively \t|"
   ]
  },
  {
   "cell_type": "code",
   "execution_count": 143,
   "metadata": {},
   "outputs": [],
   "source": [
    "class Point:\n",
    "    def __init__(self, x, y):\n",
    "        self.x=x\n",
    "        self.y=y\n",
    "    \n",
    "    def get_x(self):\n",
    "        return self.x\n",
    "    \n",
    "    def get_y(self):\n",
    "        return self.y\n",
    "    \n",
    "    def set_x(self, new_x):\n",
    "        self.x = new_x\n",
    "        \n",
    "    def set_y(self, new_y):\n",
    "        self.y = new_y\n",
    "    \n",
    "    def calculate_distance(self, new_point):\n",
    "        diff_x = self.x - new_point.get_x()\n",
    "        diff_y = self.y - new_point.get_y()\n",
    "        return (diff_x**2 + diff_y**2) ** (1/2)\n",
    "    \n",
    "    # Todo (incomplete)\n",
    "    def which_quadrant(self):\n",
    "        if (self.x>=0 and self.y>=0): return 1\n",
    "        if (self.x>=0 and self.y<0): return 4\n",
    "        if (self.x<0 and self.y>=0): return 2\n",
    "        if (self.x<0 and self.y<0): return 3"
   ]
  },
  {
   "cell_type": "code",
   "execution_count": 144,
   "metadata": {},
   "outputs": [],
   "source": [
    "a = Point(0, 1)\n",
    "b = Point(1, 0)"
   ]
  },
  {
   "cell_type": "code",
   "execution_count": 145,
   "metadata": {},
   "outputs": [
    {
     "data": {
      "text/plain": [
       "1.4142135623730951"
      ]
     },
     "execution_count": 145,
     "metadata": {},
     "output_type": "execute_result"
    }
   ],
   "source": [
    "a.calculate_distance(b)"
   ]
  },
  {
   "cell_type": "markdown",
   "metadata": {},
   "source": [
    "# Pandas\n",
    "Pandas, a library written by Wes McKinney, is a great tool for data manipulation and analysis. Pandas provides two classes:\n",
    "\n",
    "- a Series object, which handles a single column of data;\n",
    "- a DataFrame object, which handles multiple columns (like an Excel spreadsheet).\n",
    "\n",
    "You can build your own DataFrames or read in from other sources like CSVs or JSON. Pandas handles missing data beautifully; lets you sort, operate on and merge datasets; provides plotting capabilities; and handles time series data (among other advantages)."
   ]
  },
  {
   "cell_type": "code",
   "execution_count": null,
   "metadata": {},
   "outputs": [],
   "source": [
    "import pandas as pd"
   ]
  },
  {
   "cell_type": "code",
   "execution_count": null,
   "metadata": {},
   "outputs": [],
   "source": [
    "# Create a series by passing a list\n",
    "\n",
    "cities = pd.Series(['Kathmandu', 'Pokhara', 'Chitwan','Biratnagar'])"
   ]
  },
  {
   "cell_type": "code",
   "execution_count": null,
   "metadata": {},
   "outputs": [],
   "source": [
    "# Let us create three lists for cities, population and area\n",
    "# The data is from Census 2011\n",
    "cities = ['Kathmandu', 'Pokhara', 'Birganj', 'Biratnagar']\n",
    "population = [975453, 426759, 240922, 242548]\n",
    "area = [49.45, 464.28, 132.07, 77.0]"
   ]
  },
  {
   "cell_type": "code",
   "execution_count": null,
   "metadata": {},
   "outputs": [],
   "source": [
    "# Create an empty DataFrame, and add new columns to it\n",
    "cities_df = pd.DataFrame()\n",
    "cities_df['name'] = cities\n",
    "cities_df['population'] = population\n",
    "cities_df['area'] = area"
   ]
  },
  {
   "cell_type": "code",
   "execution_count": null,
   "metadata": {},
   "outputs": [],
   "source": [
    "cities_df"
   ]
  },
  {
   "cell_type": "code",
   "execution_count": null,
   "metadata": {},
   "outputs": [],
   "source": [
    "# The columns have different dtypes\n",
    "cities_df.dtypes"
   ]
  },
  {
   "cell_type": "code",
   "execution_count": null,
   "metadata": {},
   "outputs": [],
   "source": [
    "# the .head() method shows the top rows\n",
    "cities_df.head(2)"
   ]
  },
  {
   "cell_type": "code",
   "execution_count": null,
   "metadata": {},
   "outputs": [],
   "source": [
    "# the .tail() method shows the bottom rows\n",
    "cities_df.tail(2)"
   ]
  },
  {
   "cell_type": "code",
   "execution_count": null,
   "metadata": {},
   "outputs": [],
   "source": [
    "# the .sample() method randomly shows one of the rows\n",
    "cities_df.sample()"
   ]
  },
  {
   "cell_type": "code",
   "execution_count": null,
   "metadata": {},
   "outputs": [],
   "source": [
    "# check how many rows and columns\n",
    "cities_df.shape"
   ]
  },
  {
   "cell_type": "code",
   "execution_count": null,
   "metadata": {},
   "outputs": [],
   "source": [
    "# Inspect only one series using square bracket notation\n",
    "\n",
    "cities_df['population']"
   ]
  },
  {
   "cell_type": "code",
   "execution_count": null,
   "metadata": {},
   "outputs": [],
   "source": [
    "# Or dot notation\n",
    "cities_df.population"
   ]
  },
  {
   "cell_type": "code",
   "execution_count": null,
   "metadata": {},
   "outputs": [],
   "source": [
    "cities_df.population.max()"
   ]
  },
  {
   "cell_type": "code",
   "execution_count": null,
   "metadata": {},
   "outputs": [],
   "source": [
    "cities_df.population.min()"
   ]
  },
  {
   "cell_type": "code",
   "execution_count": null,
   "metadata": {},
   "outputs": [],
   "source": [
    "# Standard Python indexing works\n",
    "cities_df.population[1:]"
   ]
  },
  {
   "cell_type": "code",
   "execution_count": null,
   "metadata": {},
   "outputs": [],
   "source": [
    "# Use Boolean indexing to inspect values based on a condition\n",
    "cities_df[cities_df.name == 'Kathmandu']"
   ]
  },
  {
   "cell_type": "code",
   "execution_count": null,
   "metadata": {},
   "outputs": [],
   "source": [
    "# Create a new column with math outputs\n",
    "cities_df['population_density'] = cities_df.population/cities_df.area\n",
    "cities_df"
   ]
  },
  {
   "cell_type": "code",
   "execution_count": null,
   "metadata": {},
   "outputs": [],
   "source": [
    "# Use a single column's value to select data\n",
    "\n",
    "cities_df.loc[cities_df.population_density < 1000]"
   ]
  },
  {
   "cell_type": "code",
   "execution_count": null,
   "metadata": {},
   "outputs": [],
   "source": [
    "# Use the .sort_values() method\n",
    "# Helpful parameter: set inplace = True if you want to modify your df\n",
    "\n",
    "cities_df.sort_values(by = 'population_density')"
   ]
  },
  {
   "cell_type": "code",
   "execution_count": null,
   "metadata": {},
   "outputs": [],
   "source": [
    "cities_df.sort_values(by = 'population_density', ascending=False)"
   ]
  },
  {
   "cell_type": "code",
   "execution_count": null,
   "metadata": {},
   "outputs": [],
   "source": [
    "cities_df.sort_values(by = 'population_density', inplace=True)"
   ]
  },
  {
   "cell_type": "markdown",
   "metadata": {},
   "source": [
    "### Plotting"
   ]
  },
  {
   "cell_type": "code",
   "execution_count": null,
   "metadata": {},
   "outputs": [],
   "source": [
    "import seaborn as sns"
   ]
  },
  {
   "cell_type": "code",
   "execution_count": null,
   "metadata": {},
   "outputs": [],
   "source": [
    "# Plot charts using the .plot() method \n",
    "sns.barplot(x = 'name', y = 'population_density', data=cities_df)"
   ]
  }
 ],
 "metadata": {
  "colab": {
   "collapsed_sections": [],
   "name": "1. Introduction to Python",
   "provenance": []
  },
  "kernelspec": {
   "display_name": "Python 3",
   "language": "python",
   "name": "python3"
  },
  "language_info": {
   "codemirror_mode": {
    "name": "ipython",
    "version": 3
   },
   "file_extension": ".py",
   "mimetype": "text/x-python",
   "name": "python",
   "nbconvert_exporter": "python",
   "pygments_lexer": "ipython3",
   "version": "3.7.3"
  }
 },
 "nbformat": 4,
 "nbformat_minor": 1
}
